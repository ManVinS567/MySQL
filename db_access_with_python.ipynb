{
 "cells": [
  {
   "cell_type": "markdown",
   "id": "04d756b7",
   "metadata": {},
   "source": [
    "# Connect Python to SQL Server using pyodbc "
   ]
  },
  {
   "cell_type": "code",
   "execution_count": 2,
   "id": "e93f58f6",
   "metadata": {},
   "outputs": [
    {
     "name": "stdout",
     "output_type": "stream",
     "text": [
      "Collecting pyodbc\n",
      "  Downloading pyodbc-4.0.39-cp38-cp38-win_amd64.whl (69 kB)\n",
      "     ---------------------------------------- 69.7/69.7 kB 1.9 MB/s eta 0:00:00\n",
      "Installing collected packages: pyodbc\n",
      "Successfully installed pyodbc-4.0.39\n"
     ]
    }
   ],
   "source": [
    "# import module\n",
    "!pip install pyodbc\n",
    "import pyodbc"
   ]
  },
  {
   "cell_type": "code",
   "execution_count": 52,
   "id": "6ea40f65",
   "metadata": {},
   "outputs": [],
   "source": [
    "# open database connection\n",
    "conn = pyodbc.connect('Driver={SQL Server};'\n",
    "                        'Server=LAPTOP-85JV9O5E;'\n",
    "                        'Database=test_database;'\n",
    "                        'Trusted_Connection=yes')"
   ]
  },
  {
   "cell_type": "code",
   "execution_count": 53,
   "id": "e9f575ba",
   "metadata": {},
   "outputs": [],
   "source": [
    "# prepare a cursor object using cursor() method\n",
    "cursor = conn.cursor()"
   ]
  },
  {
   "cell_type": "code",
   "execution_count": 54,
   "id": "e8c6b2d2",
   "metadata": {},
   "outputs": [
    {
     "data": {
      "text/plain": [
       "<pyodbc.Cursor at 0x1d44eed50b0>"
      ]
     },
     "execution_count": 54,
     "metadata": {},
     "output_type": "execute_result"
    }
   ],
   "source": [
    "# execute SQL query using execute() method.\n",
    "cursor.execute('SELECT * FROM products')"
   ]
  },
  {
   "cell_type": "code",
   "execution_count": 55,
   "id": "f62be63d",
   "metadata": {
    "scrolled": true
   },
   "outputs": [
    {
     "name": "stdout",
     "output_type": "stream",
     "text": [
      "(1, 'Laptop', 1100)\n",
      "(2, 'Printer', 200)\n",
      "(3, 'Keyboard', 80)\n",
      "(4, 'Monitor', 450)\n",
      "(5, 'Tablet', 300)\n"
     ]
    }
   ],
   "source": [
    "for i in cursor:\n",
    "    print(i)"
   ]
  },
  {
   "cell_type": "code",
   "execution_count": 56,
   "id": "ffeeab75",
   "metadata": {},
   "outputs": [],
   "source": [
    "# disconnect from server\n",
    "conn.close()"
   ]
  },
  {
   "cell_type": "markdown",
   "id": "a4220846",
   "metadata": {},
   "source": [
    "## CREATE DATABASE TABLE"
   ]
  },
  {
   "cell_type": "code",
   "execution_count": 20,
   "id": "a6f12a2a",
   "metadata": {},
   "outputs": [],
   "source": [
    "# open database connection\n",
    "import pyodbc\n",
    "conn = pyodbc.connect('Driver={SQL Server};'\n",
    "                        'Server=LAPTOP-85JV9O5E;'\n",
    "                        'Database=test_database;'\n",
    "                        'Trusted_Connection=yes;')"
   ]
  },
  {
   "cell_type": "code",
   "execution_count": 21,
   "id": "48ba7f64",
   "metadata": {},
   "outputs": [],
   "source": [
    "# prepare a cursor object using cursor() method\n",
    "cursor = conn.cursor()"
   ]
  },
  {
   "cell_type": "code",
   "execution_count": 22,
   "id": "5c65eabd",
   "metadata": {},
   "outputs": [
    {
     "data": {
      "text/plain": [
       "<pyodbc.Cursor at 0x265d38eb0b0>"
      ]
     },
     "execution_count": 22,
     "metadata": {},
     "output_type": "execute_result"
    }
   ],
   "source": [
    "# Drop table if it already exist using execute() method\n",
    "# cursor.execute(\"DROP TABLE IF EXISTS EMPLOYEE\")\n",
    "\n",
    "# create table as per requirement\n",
    "sql = \"\"\"CREATE TABLE employee(\n",
    "        first_name char(20) NOT NULL,\n",
    "        last_name char(20),\n",
    "        age int,\n",
    "        sex char(1),\n",
    "        income float,\n",
    "        );\"\"\"\n",
    "\n",
    "cursor.execute(sql)"
   ]
  },
  {
   "cell_type": "code",
   "execution_count": 14,
   "id": "966b60c2",
   "metadata": {},
   "outputs": [],
   "source": [
    "# disconnect from server\n",
    "conn.close()"
   ]
  },
  {
   "cell_type": "markdown",
   "id": "8592b873",
   "metadata": {},
   "source": [
    "## INSERT operation\n",
    "\n",
    "It is required when you want to create your records into a database table."
   ]
  },
  {
   "cell_type": "code",
   "execution_count": 28,
   "id": "c932b1d3",
   "metadata": {},
   "outputs": [],
   "source": [
    "# open database connection\n",
    "conn = pyodbc.connect('Driver={SQL Server};'\n",
    "                     'Server=LAPTOP-85JV9O5E;'\n",
    "                     'Database=test_database;'\n",
    "                     'Trusted_Connection=yes;')"
   ]
  },
  {
   "cell_type": "code",
   "execution_count": 29,
   "id": "d0e158c5",
   "metadata": {},
   "outputs": [],
   "source": [
    "# prepare a cursor object using cursor() method\n",
    "cursor = conn.cursor()"
   ]
  },
  {
   "cell_type": "code",
   "execution_count": 30,
   "id": "ba6288bd",
   "metadata": {},
   "outputs": [],
   "source": [
    "# preapre SQL query to INSERT a record into the database\n",
    "sql = '''INSERT INTO employee VALUES\n",
    "        ('Mac','Mohan',20,'M',2000)'''\n"
   ]
  },
  {
   "cell_type": "code",
   "execution_count": 31,
   "id": "ed026134",
   "metadata": {},
   "outputs": [],
   "source": [
    "try:\n",
    "    # Execute the sql command\n",
    "    cursor.execute(sql)\n",
    "    # Commit your changes in the database\n",
    "    conn.commit()\n",
    "except:\n",
    "    # Rollback in case there is any error\n",
    "    conn.rollback()"
   ]
  },
  {
   "cell_type": "code",
   "execution_count": 32,
   "id": "2cafa133",
   "metadata": {},
   "outputs": [
    {
     "data": {
      "text/plain": [
       "<pyodbc.Cursor at 0x265d38f14b0>"
      ]
     },
     "execution_count": 32,
     "metadata": {},
     "output_type": "execute_result"
    }
   ],
   "source": [
    "# fetch the results from table\n",
    "sql_query = 'SELECT * FROM employee'\n",
    "\n",
    "# Execute the sql command\n",
    "cursor.execute(sql_query)"
   ]
  },
  {
   "cell_type": "code",
   "execution_count": 33,
   "id": "896e584a",
   "metadata": {},
   "outputs": [
    {
     "name": "stdout",
     "output_type": "stream",
     "text": [
      "('Mac                 ', 'Mohan               ', 20, 'M', 2000.0)\n",
      "('Mac                 ', 'Mohan               ', 20, 'M', 2000.0)\n"
     ]
    }
   ],
   "source": [
    "# print the records\n",
    "for i in cursor:\n",
    "    print(i)"
   ]
  },
  {
   "cell_type": "code",
   "execution_count": null,
   "id": "a5361ba1",
   "metadata": {},
   "outputs": [],
   "source": [
    "# close the database connection\n",
    "conn.close()"
   ]
  },
  {
   "cell_type": "markdown",
   "id": "24ad84d2",
   "metadata": {},
   "source": [
    "## READ operation\n",
    "\n",
    "READ Operation on any database means to fetch some useful information from the database.\n",
    "\n",
    "Once our database connection is established, you are ready to make a query into this database. You can use either **fetchone()** method to fetch single record or **fetchall()** method to fetech multiple values from a database table.\n",
    "\n",
    "- **fetchone()** − It fetches the next row of a query result set. A result set is an object that is returned when a cursor object is used to query a table.\n",
    "\n",
    "- **fetchall()** − It fetches all the rows in a result set. If some rows have already been extracted from the result set, then it retrieves the remaining rows from the result set.\n",
    "\n",
    "- **rowcount** − This is a read-only attribute and returns the number of rows that were affected by an execute() method."
   ]
  },
  {
   "cell_type": "code",
   "execution_count": 36,
   "id": "5c29ed08",
   "metadata": {},
   "outputs": [],
   "source": [
    "# query to to fetch all the records from the employee table having salary more than 1000\n",
    "\n",
    "import pyodbc\n",
    "\n",
    "# open database connection\n",
    "conn = pyodbc.connect('Driver={SQL SERVER};'\n",
    "                      'Server=LAPTOP-85JV9O5E;'\n",
    "                     'Database=test_database;'\n",
    "                     'Trusted_connection=yes;')"
   ]
  },
  {
   "cell_type": "code",
   "execution_count": 37,
   "id": "c1c320aa",
   "metadata": {},
   "outputs": [],
   "source": [
    "# prepare a cursor object using cursor() method\n",
    "cursor = conn.cursor()"
   ]
  },
  {
   "cell_type": "code",
   "execution_count": 38,
   "id": "84181510",
   "metadata": {},
   "outputs": [],
   "source": [
    "# query\n",
    "sql = '''SELECT * FROM employee\n",
    "        WHERE INCOME > 1000'''"
   ]
  },
  {
   "cell_type": "code",
   "execution_count": 40,
   "id": "33ea2ecc",
   "metadata": {},
   "outputs": [
    {
     "name": "stdout",
     "output_type": "stream",
     "text": [
      "fname=Mac                 ,lname=Mohan               ,age=20,sex=M,income2000.0\n",
      "fname=Mac                 ,lname=Mohan               ,age=20,sex=M,income2000.0\n"
     ]
    }
   ],
   "source": [
    "try:\n",
    "    # Execute the SQL command\n",
    "    cursor.execute(sql)\n",
    "    # Fetch all the rows in a list of lists\n",
    "    results = cursor.fetchall()\n",
    "    for row in results:\n",
    "        fname = row[0]\n",
    "        lname = row[1]\n",
    "        age = row[2]\n",
    "        sex = row[3]\n",
    "        income = row[4]\n",
    "        # Now print fetched results\n",
    "        print(f\"fname={fname},lname={lname},age={age},sex={sex},income{income}\")\n",
    "except:\n",
    "    print(\"Error: unable to fetch data\")\n",
    "    \n",
    "# disconnect from server\n",
    "conn.close()"
   ]
  },
  {
   "cell_type": "markdown",
   "id": "56a00e30",
   "metadata": {},
   "source": [
    "## UPDATE Operation\n",
    "\n",
    "UPDATE Operation on any database means to update one or more records, which are already available in the database.\n",
    "\n",
    "The following procedure updates all the records having SEX as 'M'. Here, we increase AGE of all the males by one year."
   ]
  },
  {
   "cell_type": "code",
   "execution_count": 41,
   "id": "3e8dfea8",
   "metadata": {},
   "outputs": [],
   "source": [
    "# import module\n",
    "import pyodbc\n",
    "\n",
    "# open database connection\n",
    "conn = pyodbc.connect('DRIVER={SQL SERVER};'\n",
    "                     'Server=LAPTOP-85JV9O5E;'\n",
    "                     'Database=test_database;'\n",
    "                     'Trusted_connection=yes;')"
   ]
  },
  {
   "cell_type": "code",
   "execution_count": 42,
   "id": "c0201372",
   "metadata": {},
   "outputs": [],
   "source": [
    "# prepare a cursor object using cursor() method\n",
    "cursor = conn.cursor()"
   ]
  },
  {
   "cell_type": "code",
   "execution_count": 44,
   "id": "dafdff91",
   "metadata": {},
   "outputs": [],
   "source": [
    "# Prepare sql query to UPDATE required records\n",
    "sql = '''UPDATE employee SET AGE = AGE + 1\n",
    "            WHERE SEX = \\'M\\''''\n",
    "\n",
    "try:\n",
    "    # Execute the SQL command\n",
    "    cursor.execute(sql)\n",
    "    # Commit your changes in the database\n",
    "    conn.commit()\n",
    "except:\n",
    "    # Rollback in case there is any error\n",
    "    conn.rollback()\n"
   ]
  },
  {
   "cell_type": "code",
   "execution_count": 45,
   "id": "58123cb4",
   "metadata": {},
   "outputs": [],
   "source": [
    "# disconnect from server\n",
    "conn.close()"
   ]
  },
  {
   "cell_type": "markdown",
   "id": "5f38e46d",
   "metadata": {},
   "source": [
    "## DELETE operation\n",
    "\n",
    "DELETE operation is required when you want to delete some records from your database. "
   ]
  },
  {
   "cell_type": "code",
   "execution_count": 47,
   "id": "ce777bc3",
   "metadata": {},
   "outputs": [],
   "source": [
    "# Following is the procedure to delete all the records from EMPLOYEE \n",
    "# where AGE is more than 20\n",
    "\n",
    "# import module\n",
    "import pyodbc\n",
    "\n",
    "# establish database connection\n",
    "conn = pyodbc.connect('DRIVER={SQL SERVER};'\n",
    "                     'Server=LAPTOP-85JV9O5E;'\n",
    "                     'Database=test_database;'\n",
    "                     'Trusted_connection=yes')\n",
    "\n",
    "# prepare a cursor object using cursor() method\n",
    "cursor = conn.cursor()\n",
    "\n",
    "# prepare sql query to delete required records\n",
    "sql = \"DELETE FROM EMPLOYEE WHERE AGE > 20\"\n",
    "\n",
    "try:\n",
    "    # Execute the sql command\n",
    "    cursor.execute(sql)\n",
    "    # commit the changes in the database\n",
    "    conn.commit()\n",
    "except:\n",
    "    # Rollback in case there is any error\n",
    "    conn.rollback()\n",
    "    \n",
    "# disconnect from server\n",
    "conn.close()"
   ]
  },
  {
   "cell_type": "markdown",
   "id": "e1f9c8ac",
   "metadata": {},
   "source": [
    "### Performing Transactions\n",
    "Transactions are a mechanism that ensures data consistency. Transactions have the following four properties −\n",
    "\n",
    "- **Atomicity** − Either a transaction completes or nothing happens at all.\n",
    "\n",
    "- **Consistency** − A transaction must start in a consistent state and leave the system in a consistent state.\n",
    "\n",
    "- **Isolation** − Intermediate results of a transaction are not visible outside the current transaction.\n",
    "\n",
    "- **Durability** − Once a transaction was committed, the effects are persistent, even after a system failure."
   ]
  },
  {
   "cell_type": "markdown",
   "id": "53ce9479",
   "metadata": {},
   "source": [
    "### COMMIT Operation\n",
    "\n",
    "Commit is the operation, which gives a green signal to database to finalize the changes, and after this operation, no change can be reverted back.\n",
    "\n",
    "Here is a simple example to call commit method.\n",
    "\n",
    "db.commit()"
   ]
  },
  {
   "cell_type": "markdown",
   "id": "1900e500",
   "metadata": {},
   "source": [
    "### ROLLBACK Operation\n",
    "\n",
    "If you are not satisfied with one or more of the changes and you want to revert back those changes completely, then use rollback() method.\n",
    "\n",
    "Here is a simple example to call rollback() method.\n",
    "\n",
    "db.rollback()"
   ]
  },
  {
   "cell_type": "markdown",
   "id": "1c1986f4",
   "metadata": {},
   "source": [
    "### Disconnecting Database\n",
    "\n",
    "To disconnect Database connection, use close() method.\n",
    "\n",
    "db.close()"
   ]
  },
  {
   "cell_type": "markdown",
   "id": "0785a643",
   "metadata": {},
   "source": [
    "## CREATE A DATABASE"
   ]
  },
  {
   "cell_type": "code",
   "execution_count": 5,
   "id": "46ba37ca",
   "metadata": {},
   "outputs": [],
   "source": [
    "import pyodbc\n",
    "\n",
    "# establish database connection\n",
    "conn = pyodbc.connect('DRIVER={SQL SERVER};'\n",
    "                     'Server=LAPTOP-85JV9O5E;'\n",
    "                     'Trusted_connection=yes;',\n",
    "                     autocommit=True)"
   ]
  },
  {
   "cell_type": "code",
   "execution_count": 6,
   "id": "fb1b1bc8",
   "metadata": {},
   "outputs": [],
   "source": [
    "# create cursor object using cursor() method\n",
    "cursor = conn.cursor()"
   ]
  },
  {
   "cell_type": "code",
   "execution_count": 7,
   "id": "8fc5a371",
   "metadata": {},
   "outputs": [
    {
     "data": {
      "text/plain": [
       "<pyodbc.Cursor at 0x1ce70381330>"
      ]
     },
     "execution_count": 7,
     "metadata": {},
     "output_type": "execute_result"
    }
   ],
   "source": [
    "# write a sql query to create database\n",
    "sql = \"CREATE DATABASE test_database_2\"\n",
    "\n",
    "# run the sql query\n",
    "cursor.execute(sql)"
   ]
  },
  {
   "cell_type": "code",
   "execution_count": 8,
   "id": "e7197c1f",
   "metadata": {},
   "outputs": [
    {
     "data": {
      "text/plain": [
       "<pyodbc.Cursor at 0x1ce70381330>"
      ]
     },
     "execution_count": 8,
     "metadata": {},
     "output_type": "execute_result"
    }
   ],
   "source": [
    "cursor.execute(\"USE test_database_2\")"
   ]
  },
  {
   "cell_type": "code",
   "execution_count": 9,
   "id": "ceaebe06",
   "metadata": {},
   "outputs": [
    {
     "data": {
      "text/plain": [
       "<pyodbc.Cursor at 0x1ce70381330>"
      ]
     },
     "execution_count": 9,
     "metadata": {},
     "output_type": "execute_result"
    }
   ],
   "source": [
    "# create table \n",
    "create_table_query = '''CREATE TABLE testing(\n",
    "                        test_id int,\n",
    "                        test_name varchar(20),\n",
    "                        test_age int,\n",
    "                        test_salary int)'''\n",
    "\n",
    "cursor.execute(create_table_query)"
   ]
  },
  {
   "cell_type": "code",
   "execution_count": 10,
   "id": "2b081c28",
   "metadata": {},
   "outputs": [
    {
     "data": {
      "text/plain": [
       "<pyodbc.Cursor at 0x1ce70381330>"
      ]
     },
     "execution_count": 10,
     "metadata": {},
     "output_type": "execute_result"
    }
   ],
   "source": [
    "# insert records into the table\n",
    "insert_query = '''INSERT INTO testing VALUES\n",
    "                (1,'Man',25,25000),\n",
    "                (2,'Woman',23,46000)'''\n",
    "\n",
    "cursor.execute(insert_query)"
   ]
  },
  {
   "cell_type": "code",
   "execution_count": 13,
   "id": "12588f1e",
   "metadata": {},
   "outputs": [
    {
     "name": "stdout",
     "output_type": "stream",
     "text": [
      "(1, 'Man', 25, 25000)\n",
      "(2, 'Woman', 23, 46000)\n"
     ]
    }
   ],
   "source": [
    "# read the table\n",
    "cursor.execute('SELECT * FROM testing')\n",
    "\n",
    "for i in cursor:\n",
    "    print(i)"
   ]
  },
  {
   "cell_type": "code",
   "execution_count": 14,
   "id": "9d16c1b3",
   "metadata": {},
   "outputs": [],
   "source": [
    "# disconnect the database connection\n",
    "conn.close()"
   ]
  },
  {
   "cell_type": "code",
   "execution_count": null,
   "id": "75ae397f",
   "metadata": {},
   "outputs": [],
   "source": []
  }
 ],
 "metadata": {
  "kernelspec": {
   "display_name": "Python 3 (ipykernel)",
   "language": "python",
   "name": "python3"
  },
  "language_info": {
   "codemirror_mode": {
    "name": "ipython",
    "version": 3
   },
   "file_extension": ".py",
   "mimetype": "text/x-python",
   "name": "python",
   "nbconvert_exporter": "python",
   "pygments_lexer": "ipython3",
   "version": "3.8.10"
  }
 },
 "nbformat": 4,
 "nbformat_minor": 5
}
